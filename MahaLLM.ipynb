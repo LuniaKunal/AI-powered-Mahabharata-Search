{
  "nbformat": 4,
  "nbformat_minor": 0,
  "metadata": {
    "colab": {
      "provenance": [],
      "gpuType": "T4",
      "authorship_tag": "ABX9TyM3bgeoDGcfX8Xjzu+CJ8t1",
      "include_colab_link": true
    },
    "kernelspec": {
      "name": "python3",
      "display_name": "Python 3"
    },
    "language_info": {
      "name": "python"
    },
    "accelerator": "GPU"
  },
  "cells": [
    {
      "cell_type": "markdown",
      "metadata": {
        "id": "view-in-github",
        "colab_type": "text"
      },
      "source": [
        "<a href=\"https://colab.research.google.com/github/LuniaKunal/AI-powered-Mahabharata-Search/blob/main/MahaLLM.ipynb\" target=\"_parent\"><img src=\"https://colab.research.google.com/assets/colab-badge.svg\" alt=\"Open In Colab\"/></a>"
      ]
    },
    {
      "cell_type": "code",
      "source": [
        "with open('/content/combined_output.txt','r') as file:\n",
        "    text = file.read()"
      ],
      "metadata": {
        "id": "fYmLned27xj_"
      },
      "execution_count": null,
      "outputs": []
    },
    {
      "cell_type": "code",
      "source": [
        "print(\"length of dataset in characters: \", len(text))"
      ],
      "metadata": {
        "colab": {
          "base_uri": "https://localhost:8080/"
        },
        "id": "ce1qwtmq9YrP",
        "outputId": "006151ff-458c-4b79-c127-c1312c9c30a9"
      },
      "execution_count": null,
      "outputs": [
        {
          "output_type": "stream",
          "name": "stdout",
          "text": [
            "length of dataset in characters:  14080654\n"
          ]
        }
      ]
    },
    {
      "cell_type": "code",
      "source": [
        "# let's look at the first 1000 characters\n",
        "print(text[:1000])"
      ],
      "metadata": {
        "colab": {
          "base_uri": "https://localhost:8080/"
        },
        "id": "llSDocpw9UN4",
        "outputId": "b6868e38-8b5c-4029-ad10-528165849f09"
      },
      "execution_count": null,
      "outputs": [
        {
          "output_type": "stream",
          "name": "stdout",
          "text": [
            "BOOK 1\n",
            "\n",
            "THE MAHABHARATA\n",
            "\n",
            "ADI PARVA\n",
            "\n",
            "SECTION I\n",
            "\n",
            "Om! Having bowed down to Narayana and Nara, the most exalted male being,\n",
            "and also to the goddess Saraswati, must the word Jaya be uttered.\n",
            "\n",
            "Ugrasrava, the son of Lomaharshana, surnamed Sauti, well-versed in the\n",
            "Puranas, bending with humility, one day approached the great sages of\n",
            "rigid vows, sitting at their ease, who had attended the twelve years'\n",
            "sacrifice of Saunaka, surnamed Kulapati, in the forest of Naimisha. Those\n",
            "ascetics, wishing to hear his wonderful narrations, presently began to\n",
            "address him who had thus arrived at that recluse abode of the inhabitants\n",
            "of the forest of Naimisha. Having been entertained with due respect by\n",
            "those holy men, he saluted those Munis (sages) with joined palms, even\n",
            "all of them, and inquired about the progress of their asceticism. Then\n",
            "all the ascetics being again seated, the son of Lomaharshana humbly\n",
            "occupied the seat that was assigned to him. Seeing that he was\n",
            "comfortably seated, and recovered from \n"
          ]
        }
      ]
    },
    {
      "cell_type": "code",
      "source": [
        "# Finding unique charaters present in the corpus\n",
        "chars = sorted(list(set(text)))\n",
        "vocab_size = len(chars)\n",
        "print(f'Vocab size: {vocab_size}')\n",
        "print(''.join(chars))"
      ],
      "metadata": {
        "colab": {
          "base_uri": "https://localhost:8080/"
        },
        "id": "icGuIkue8BYq",
        "outputId": "e086434b-7688-40dc-d070-8e38234a63d6"
      },
      "execution_count": null,
      "outputs": [
        {
          "output_type": "stream",
          "name": "stdout",
          "text": [
            "Vocab size: 79\n",
            "\n",
            " !\"&'(),-.0123456789:;?ABCDEFGHIJKLMNOPQRSTUVWXYZ[]_abcdefghijklmnopqrstuvwxyz\n"
          ]
        }
      ]
    },
    {
      "cell_type": "code",
      "source": [
        "# Creating a custom Encoder and Decoder\n",
        "stoi = {ch:i for i,ch in enumerate(chars)}\n",
        "itos = {i:ch for i,ch in enumerate(chars)}\n",
        "encode = lambda s: [stoi[c] for c in s] # encoder: take a string, output a list of integers\n",
        "decode = lambda l: ''.join([itos[i] for i in l]) # decoder: take a list of integers, output a string\n",
        "\n",
        "print(encode(\"hii there\"))\n",
        "print(decode(encode(\"hii there\")))"
      ],
      "metadata": {
        "colab": {
          "base_uri": "https://localhost:8080/"
        },
        "id": "Lv5ug4DM8vS-",
        "outputId": "b47c135c-5023-42e3-bc83-fffaf4ac86cd"
      },
      "execution_count": null,
      "outputs": [
        {
          "output_type": "stream",
          "name": "stdout",
          "text": [
            "[60, 61, 61, 1, 72, 60, 57, 70, 57]\n",
            "hii there\n"
          ]
        }
      ]
    },
    {
      "cell_type": "code",
      "source": [
        "import torch # we use PyTorch: https://pytorch.org\n",
        "data = torch.tensor(encode(text), dtype=torch.long)\n",
        "print(data.shape, data.dtype)\n",
        "print(data[:1000]) # the 1000 characters we looked at earier will to the GPT look like this"
      ],
      "metadata": {
        "colab": {
          "base_uri": "https://localhost:8080/"
        },
        "id": "7Yx9DHhB_gtw",
        "outputId": "b740170b-1362-4228-b20d-a7000cab16ed"
      },
      "execution_count": null,
      "outputs": [
        {
          "output_type": "stream",
          "name": "stdout",
          "text": [
            "torch.Size([14080654]) torch.int64\n",
            "tensor([25, 38, 38, 34,  1, 12,  0,  0, 43, 31, 28,  1, 36, 24, 31, 24, 25, 31,\n",
            "        24, 41, 24, 43, 24,  0,  0, 24, 27, 32,  1, 39, 24, 41, 45, 24,  0,  0,\n",
            "        42, 28, 26, 43, 32, 38, 37,  1, 32,  0,  0, 38, 65,  2,  1, 31, 53, 74,\n",
            "        61, 66, 59,  1, 54, 67, 75, 57, 56,  1, 56, 67, 75, 66,  1, 72, 67,  1,\n",
            "        37, 53, 70, 53, 77, 53, 66, 53,  1, 53, 66, 56,  1, 37, 53, 70, 53,  8,\n",
            "         1, 72, 60, 57,  1, 65, 67, 71, 72,  1, 57, 76, 53, 64, 72, 57, 56,  1,\n",
            "        65, 53, 64, 57,  1, 54, 57, 61, 66, 59,  8,  0, 53, 66, 56,  1, 53, 64,\n",
            "        71, 67,  1, 72, 67,  1, 72, 60, 57,  1, 59, 67, 56, 56, 57, 71, 71,  1,\n",
            "        42, 53, 70, 53, 71, 75, 53, 72, 61,  8,  1, 65, 73, 71, 72,  1, 72, 60,\n",
            "        57,  1, 75, 67, 70, 56,  1, 33, 53, 77, 53,  1, 54, 57,  1, 73, 72, 72,\n",
            "        57, 70, 57, 56, 10,  0,  0, 44, 59, 70, 53, 71, 70, 53, 74, 53,  8,  1,\n",
            "        72, 60, 57,  1, 71, 67, 66,  1, 67, 58,  1, 35, 67, 65, 53, 60, 53, 70,\n",
            "        71, 60, 53, 66, 53,  8,  1, 71, 73, 70, 66, 53, 65, 57, 56,  1, 42, 53,\n",
            "        73, 72, 61,  8,  1, 75, 57, 64, 64,  9, 74, 57, 70, 71, 57, 56,  1, 61,\n",
            "        66,  1, 72, 60, 57,  0, 39, 73, 70, 53, 66, 53, 71,  8,  1, 54, 57, 66,\n",
            "        56, 61, 66, 59,  1, 75, 61, 72, 60,  1, 60, 73, 65, 61, 64, 61, 72, 77,\n",
            "         8,  1, 67, 66, 57,  1, 56, 53, 77,  1, 53, 68, 68, 70, 67, 53, 55, 60,\n",
            "        57, 56,  1, 72, 60, 57,  1, 59, 70, 57, 53, 72,  1, 71, 53, 59, 57, 71,\n",
            "         1, 67, 58,  0, 70, 61, 59, 61, 56,  1, 74, 67, 75, 71,  8,  1, 71, 61,\n",
            "        72, 72, 61, 66, 59,  1, 53, 72,  1, 72, 60, 57, 61, 70,  1, 57, 53, 71,\n",
            "        57,  8,  1, 75, 60, 67,  1, 60, 53, 56,  1, 53, 72, 72, 57, 66, 56, 57,\n",
            "        56,  1, 72, 60, 57,  1, 72, 75, 57, 64, 74, 57,  1, 77, 57, 53, 70, 71,\n",
            "         5,  0, 71, 53, 55, 70, 61, 58, 61, 55, 57,  1, 67, 58,  1, 42, 53, 73,\n",
            "        66, 53, 63, 53,  8,  1, 71, 73, 70, 66, 53, 65, 57, 56,  1, 34, 73, 64,\n",
            "        53, 68, 53, 72, 61,  8,  1, 61, 66,  1, 72, 60, 57,  1, 58, 67, 70, 57,\n",
            "        71, 72,  1, 67, 58,  1, 37, 53, 61, 65, 61, 71, 60, 53, 10,  1, 43, 60,\n",
            "        67, 71, 57,  0, 53, 71, 55, 57, 72, 61, 55, 71,  8,  1, 75, 61, 71, 60,\n",
            "        61, 66, 59,  1, 72, 67,  1, 60, 57, 53, 70,  1, 60, 61, 71,  1, 75, 67,\n",
            "        66, 56, 57, 70, 58, 73, 64,  1, 66, 53, 70, 70, 53, 72, 61, 67, 66, 71,\n",
            "         8,  1, 68, 70, 57, 71, 57, 66, 72, 64, 77,  1, 54, 57, 59, 53, 66,  1,\n",
            "        72, 67,  0, 53, 56, 56, 70, 57, 71, 71,  1, 60, 61, 65,  1, 75, 60, 67,\n",
            "         1, 60, 53, 56,  1, 72, 60, 73, 71,  1, 53, 70, 70, 61, 74, 57, 56,  1,\n",
            "        53, 72,  1, 72, 60, 53, 72,  1, 70, 57, 55, 64, 73, 71, 57,  1, 53, 54,\n",
            "        67, 56, 57,  1, 67, 58,  1, 72, 60, 57,  1, 61, 66, 60, 53, 54, 61, 72,\n",
            "        53, 66, 72, 71,  0, 67, 58,  1, 72, 60, 57,  1, 58, 67, 70, 57, 71, 72,\n",
            "         1, 67, 58,  1, 37, 53, 61, 65, 61, 71, 60, 53, 10,  1, 31, 53, 74, 61,\n",
            "        66, 59,  1, 54, 57, 57, 66,  1, 57, 66, 72, 57, 70, 72, 53, 61, 66, 57,\n",
            "        56,  1, 75, 61, 72, 60,  1, 56, 73, 57,  1, 70, 57, 71, 68, 57, 55, 72,\n",
            "         1, 54, 77,  0, 72, 60, 67, 71, 57,  1, 60, 67, 64, 77,  1, 65, 57, 66,\n",
            "         8,  1, 60, 57,  1, 71, 53, 64, 73, 72, 57, 56,  1, 72, 60, 67, 71, 57,\n",
            "         1, 36, 73, 66, 61, 71,  1,  6, 71, 53, 59, 57, 71,  7,  1, 75, 61, 72,\n",
            "        60,  1, 62, 67, 61, 66, 57, 56,  1, 68, 53, 64, 65, 71,  8,  1, 57, 74,\n",
            "        57, 66,  0, 53, 64, 64,  1, 67, 58,  1, 72, 60, 57, 65,  8,  1, 53, 66,\n",
            "        56,  1, 61, 66, 69, 73, 61, 70, 57, 56,  1, 53, 54, 67, 73, 72,  1, 72,\n",
            "        60, 57,  1, 68, 70, 67, 59, 70, 57, 71, 71,  1, 67, 58,  1, 72, 60, 57,\n",
            "        61, 70,  1, 53, 71, 55, 57, 72, 61, 55, 61, 71, 65, 10,  1, 43, 60, 57,\n",
            "        66,  0, 53, 64, 64,  1, 72, 60, 57,  1, 53, 71, 55, 57, 72, 61, 55, 71,\n",
            "         1, 54, 57, 61, 66, 59,  1, 53, 59, 53, 61, 66,  1, 71, 57, 53, 72, 57,\n",
            "        56,  8,  1, 72, 60, 57,  1, 71, 67, 66,  1, 67, 58,  1, 35, 67, 65, 53,\n",
            "        60, 53, 70, 71, 60, 53, 66, 53,  1, 60, 73, 65, 54, 64, 77,  0, 67, 55,\n",
            "        55, 73, 68, 61, 57, 56,  1, 72, 60, 57,  1, 71, 57, 53, 72,  1, 72, 60,\n",
            "        53, 72,  1, 75, 53, 71,  1, 53, 71, 71, 61, 59, 66, 57, 56,  1, 72, 67,\n",
            "         1, 60, 61, 65, 10,  1, 42, 57, 57, 61, 66, 59,  1, 72, 60, 53, 72,  1,\n",
            "        60, 57,  1, 75, 53, 71,  0, 55, 67, 65, 58, 67, 70, 72, 53, 54, 64, 77,\n",
            "         1, 71, 57, 53, 72, 57, 56,  8,  1, 53, 66, 56,  1, 70, 57, 55, 67, 74,\n",
            "        57, 70, 57, 56,  1, 58, 70, 67, 65,  1])\n"
          ]
        }
      ]
    },
    {
      "cell_type": "code",
      "source": [
        "n = int(0.9*len(data)) # first 90% will be train, rest val\n",
        "train_data = data[:n]\n",
        "val_data = data[n:]"
      ],
      "metadata": {
        "id": "HalIAccq_q0P"
      },
      "execution_count": null,
      "outputs": []
    },
    {
      "cell_type": "code",
      "source": [
        "block_size = 8\n",
        "train_data[:block_size+1]"
      ],
      "metadata": {
        "colab": {
          "base_uri": "https://localhost:8080/"
        },
        "id": "09povYCL_sy-",
        "outputId": "35f5b343-5046-4d6c-a92a-68b0f1f82ff2"
      },
      "execution_count": null,
      "outputs": [
        {
          "output_type": "execute_result",
          "data": {
            "text/plain": [
              "tensor([25, 38, 38, 34,  1, 12,  0,  0, 43])"
            ]
          },
          "metadata": {},
          "execution_count": 15
        }
      ]
    },
    {
      "cell_type": "code",
      "source": [
        "x = train_data[:block_size]\n",
        "y = train_data[1:block_size+1]\n",
        "for t in range(block_size):\n",
        "    context = x[:t+1]\n",
        "    target = y[t]\n",
        "    print(f\"when input is {context} the target: {target}\")"
      ],
      "metadata": {
        "colab": {
          "base_uri": "https://localhost:8080/"
        },
        "id": "Y0Sq39I1_swn",
        "outputId": "be73dfc9-3432-444c-b776-30965d5f475f"
      },
      "execution_count": null,
      "outputs": [
        {
          "output_type": "stream",
          "name": "stdout",
          "text": [
            "when input is tensor([25]) the target: 38\n",
            "when input is tensor([25, 38]) the target: 38\n",
            "when input is tensor([25, 38, 38]) the target: 34\n",
            "when input is tensor([25, 38, 38, 34]) the target: 1\n",
            "when input is tensor([25, 38, 38, 34,  1]) the target: 12\n",
            "when input is tensor([25, 38, 38, 34,  1, 12]) the target: 0\n",
            "when input is tensor([25, 38, 38, 34,  1, 12,  0]) the target: 0\n",
            "when input is tensor([25, 38, 38, 34,  1, 12,  0,  0]) the target: 43\n"
          ]
        }
      ]
    },
    {
      "cell_type": "code",
      "source": [
        "torch.manual_seed(1337)\n",
        "batch_size = 4 # how many independent sequences will we process in parallel?\n",
        "block_size = 8 # what is the maximum context length for predictions?\n",
        "\n",
        "def get_batch(split):\n",
        "    # generate a small batch of data of inputs x and targets y\n",
        "    data = train_data if split == 'train' else val_data\n",
        "    ix = torch.randint(len(data) - block_size, (batch_size,))\n",
        "    x = torch.stack([data[i:i+block_size] for i in ix])\n",
        "    y = torch.stack([data[i+1:i+block_size+1] for i in ix])\n",
        "    return x, y\n",
        "\n",
        "xb, yb = get_batch('train')\n",
        "print('inputs:')\n",
        "print(xb.shape)\n",
        "print(xb)\n",
        "print('targets:')\n",
        "print(yb.shape)\n",
        "print(yb)\n",
        "\n",
        "print('----')\n",
        "\n",
        "for b in range(batch_size): # batch dimension\n",
        "    for t in range(block_size): # time dimension\n",
        "        context = xb[b, :t+1]\n",
        "        target = yb[b,t]\n",
        "        print(f\"when input is {context.tolist()} the target: {target}\")"
      ],
      "metadata": {
        "colab": {
          "base_uri": "https://localhost:8080/"
        },
        "id": "-1gK8v94_suG",
        "outputId": "0434e6b2-8c09-4a33-e42b-9b13d22dda64"
      },
      "execution_count": null,
      "outputs": [
        {
          "output_type": "stream",
          "name": "stdout",
          "text": [
            "inputs:\n",
            "torch.Size([4, 8])\n",
            "tensor([[64, 56,  1, 75, 61, 72, 60, 61],\n",
            "        [72, 60, 57, 65,  8,  1,  3, 35],\n",
            "        [59,  1, 71, 60, 67, 73, 64, 56],\n",
            "        [66,  1, 72, 60, 67, 73,  1, 65]])\n",
            "targets:\n",
            "torch.Size([4, 8])\n",
            "tensor([[56,  1, 75, 61, 72, 60, 61, 66],\n",
            "        [60, 57, 65,  8,  1,  3, 35, 57],\n",
            "        [ 1, 71, 60, 67, 73, 64, 56,  1],\n",
            "        [ 1, 72, 60, 67, 73,  1, 65, 53]])\n",
            "----\n",
            "when input is [64] the target: 56\n",
            "when input is [64, 56] the target: 1\n",
            "when input is [64, 56, 1] the target: 75\n",
            "when input is [64, 56, 1, 75] the target: 61\n",
            "when input is [64, 56, 1, 75, 61] the target: 72\n",
            "when input is [64, 56, 1, 75, 61, 72] the target: 60\n",
            "when input is [64, 56, 1, 75, 61, 72, 60] the target: 61\n",
            "when input is [64, 56, 1, 75, 61, 72, 60, 61] the target: 66\n",
            "when input is [72] the target: 60\n",
            "when input is [72, 60] the target: 57\n",
            "when input is [72, 60, 57] the target: 65\n",
            "when input is [72, 60, 57, 65] the target: 8\n",
            "when input is [72, 60, 57, 65, 8] the target: 1\n",
            "when input is [72, 60, 57, 65, 8, 1] the target: 3\n",
            "when input is [72, 60, 57, 65, 8, 1, 3] the target: 35\n",
            "when input is [72, 60, 57, 65, 8, 1, 3, 35] the target: 57\n",
            "when input is [59] the target: 1\n",
            "when input is [59, 1] the target: 71\n",
            "when input is [59, 1, 71] the target: 60\n",
            "when input is [59, 1, 71, 60] the target: 67\n",
            "when input is [59, 1, 71, 60, 67] the target: 73\n",
            "when input is [59, 1, 71, 60, 67, 73] the target: 64\n",
            "when input is [59, 1, 71, 60, 67, 73, 64] the target: 56\n",
            "when input is [59, 1, 71, 60, 67, 73, 64, 56] the target: 1\n",
            "when input is [66] the target: 1\n",
            "when input is [66, 1] the target: 72\n",
            "when input is [66, 1, 72] the target: 60\n",
            "when input is [66, 1, 72, 60] the target: 67\n",
            "when input is [66, 1, 72, 60, 67] the target: 73\n",
            "when input is [66, 1, 72, 60, 67, 73] the target: 1\n",
            "when input is [66, 1, 72, 60, 67, 73, 1] the target: 65\n",
            "when input is [66, 1, 72, 60, 67, 73, 1, 65] the target: 53\n"
          ]
        }
      ]
    },
    {
      "cell_type": "code",
      "source": [
        "print(xb) # our input to the transformer"
      ],
      "metadata": {
        "colab": {
          "base_uri": "https://localhost:8080/"
        },
        "id": "FlIjKC-2_srY",
        "outputId": "f7af47e4-575b-4b55-f9bc-7589c5c84a33"
      },
      "execution_count": null,
      "outputs": [
        {
          "output_type": "stream",
          "name": "stdout",
          "text": [
            "tensor([[64, 56,  1, 75, 61, 72, 60, 61],\n",
            "        [72, 60, 57, 65,  8,  1,  3, 35],\n",
            "        [59,  1, 71, 60, 67, 73, 64, 56],\n",
            "        [66,  1, 72, 60, 67, 73,  1, 65]])\n"
          ]
        }
      ]
    },
    {
      "cell_type": "code",
      "source": [
        "import torch\n",
        "import torch.nn as nn\n",
        "from torch.nn import functional as F\n",
        "torch.manual_seed(1337)\n",
        "\n",
        "class BigramLanguageModel(nn.Module):\n",
        "\n",
        "    def __init__(self, vocab_size):\n",
        "        super().__init__()\n",
        "        # each token directly reads off the logits for the next token from a lookup table\n",
        "        self.token_embedding_table = nn.Embedding(vocab_size, vocab_size)\n",
        "\n",
        "    def forward(self, idx, targets=None):\n",
        "\n",
        "        # idx and targets are both (B,T) tensor of integers\n",
        "        logits = self.token_embedding_table(idx) # (B,T,C)\n",
        "\n",
        "        if targets is None:\n",
        "            loss = None\n",
        "        else:\n",
        "            B, T, C = logits.shape\n",
        "            logits = logits.view(B*T, C)\n",
        "            targets = targets.view(B*T)\n",
        "            loss = F.cross_entropy(logits, targets)\n",
        "\n",
        "        return logits, loss\n",
        "\n",
        "    def generate(self, idx, max_new_tokens):\n",
        "        # idx is (B, T) array of indices in the current context\n",
        "        for _ in range(max_new_tokens):\n",
        "            # get the predictions\n",
        "            logits, loss = self(idx)\n",
        "            # focus only on the last time step\n",
        "            logits = logits[:, -1, :] # becomes (B, C)\n",
        "            # apply softmax to get probabilities\n",
        "            probs = F.softmax(logits, dim=-1) # (B, C)\n",
        "            # sample from the distribution\n",
        "            idx_next = torch.multinomial(probs, num_samples=1) # (B, 1)\n",
        "            # append sampled index to the running sequence\n",
        "            idx = torch.cat((idx, idx_next), dim=1) # (B, T+1)\n",
        "        return idx\n",
        "\n",
        "m = BigramLanguageModel(vocab_size)\n",
        "logits, loss = m(xb, yb)\n",
        "print(logits.shape)\n",
        "print(loss)\n",
        "\n",
        "print(decode(m.generate(idx = torch.zeros((1, 1), dtype=torch.long), max_new_tokens=100)[0].tolist()))"
      ],
      "metadata": {
        "colab": {
          "base_uri": "https://localhost:8080/"
        },
        "id": "zPEuW3-k_2b3",
        "outputId": "8f389f35-2079-4d58-8ca6-a2a1dad233d1"
      },
      "execution_count": null,
      "outputs": [
        {
          "output_type": "stream",
          "name": "stdout",
          "text": [
            "torch.Size([32, 79])\n",
            "tensor(4.8761, grad_fn=<NllLossBackward0>)\n",
            "\n",
            "K'jbwY-AlaH[C_Jm:JBsJ.]PF)01I!e SLQ(VbHImy61.WuuceZA ]PNbyk,JP GNH(:ZUt6M9 G:wp\"PjPL.6MH6EWwuz,JqU.W\n"
          ]
        }
      ]
    },
    {
      "cell_type": "code",
      "source": [
        "# create a PyTorch optimizer\n",
        "optimizer = torch.optim.AdamW(m.parameters(), lr=1e-3)"
      ],
      "metadata": {
        "id": "thCcIKVD_7EP"
      },
      "execution_count": null,
      "outputs": []
    },
    {
      "cell_type": "code",
      "source": [
        "batch_size = 32\n",
        "for steps in range(100): # increase number of steps for good results...\n",
        "\n",
        "    # sample a batch of data\n",
        "    xb, yb = get_batch('train')\n",
        "\n",
        "    # evaluate the loss\n",
        "    logits, loss = m(xb, yb)\n",
        "    optimizer.zero_grad(set_to_none=True)\n",
        "    loss.backward()\n",
        "    optimizer.step()\n",
        "\n",
        "print(loss.item())\n"
      ],
      "metadata": {
        "colab": {
          "base_uri": "https://localhost:8080/"
        },
        "id": "mIVbXBpd_-Wv",
        "outputId": "556a2f10-5f20-4b3f-f406-17c72d22e386"
      },
      "execution_count": null,
      "outputs": [
        {
          "output_type": "stream",
          "name": "stdout",
          "text": [
            "4.535962104797363\n"
          ]
        }
      ]
    },
    {
      "cell_type": "code",
      "source": [
        "print(decode(m.generate(idx = torch.zeros((1, 1), dtype=torch.long), max_new_tokens=500)[0].tolist()))"
      ],
      "metadata": {
        "colab": {
          "base_uri": "https://localhost:8080/"
        },
        "id": "Aww8qkVoAC9g",
        "outputId": "93166820-8830-4973-ffca-f5dd7425a153"
      },
      "execution_count": null,
      "outputs": [
        {
          "output_type": "stream",
          "name": "stdout",
          "text": [
            "\n",
            "ZMC-;\n",
            "aQpSbHe_K(jx1Bpgqdf8XCEO?Y-fbLJ:Rxb8Yu(aM5Zx;RdwrK)i-\n",
            "YJ]sM'c3w]_7CS  w?u(:tunWDxqN6Cc[L3Eua.'By6]qk2xm6CHc!\n",
            "4:k[EB?un\n",
            "Zq?UNByR ))ZKdg(-VmnVCN_dm_o'5ZED\"ShjbDPWvykUSQKVo-'(!Mc383[6Ew0n-dfYV6MjQ;R;7((,Hqdr&]P-z101?&i6MCJl9]EEzAq9ZCTk_J4LSZK.Xd\"mbqc75)iJ3wILW0c8a5DTabF8hrmCWS?a h?PZxA;Zj(Lgte7fqi1T1KL(x9BYhBkCD\"\"cILispNUSQ8aEpojAPjYk(P G(v w0vl D7gkIyU(SBVl;:?tu!g83od79r]LAOuFnD\"BvauDtWun?Vhh[R90eL(8XY'SZMEZI!Jq;e'BjU5H37zN6TS,26ClAUNaOz8kN6yun5UZx9B?)3:1Pqs5KvV\n",
            "tu3O8&)k458rxZkWvAFeLWzZk)S8l\n"
          ]
        }
      ]
    },
    {
      "cell_type": "code",
      "source": [
        "# toy example illustrating how matrix multiplication can be used for a \"weighted aggregation\"\n",
        "torch.manual_seed(42)\n",
        "a = torch.tril(torch.ones(3, 3))\n",
        "a = a / torch.sum(a, 1, keepdim=True)\n",
        "b = torch.randint(0,10,(3,2)).float()\n",
        "c = a @ b\n",
        "print('a=')\n",
        "print(a)\n",
        "print('--')\n",
        "print('b=')\n",
        "print(b)\n",
        "print('--')\n",
        "print('c=')\n",
        "print(c)"
      ],
      "metadata": {
        "colab": {
          "base_uri": "https://localhost:8080/"
        },
        "id": "gAyuQBGpAGA9",
        "outputId": "10db8dd7-1865-4752-ecf3-7619a85021b3"
      },
      "execution_count": null,
      "outputs": [
        {
          "output_type": "stream",
          "name": "stdout",
          "text": [
            "a=\n",
            "tensor([[1.0000, 0.0000, 0.0000],\n",
            "        [0.5000, 0.5000, 0.0000],\n",
            "        [0.3333, 0.3333, 0.3333]])\n",
            "--\n",
            "b=\n",
            "tensor([[2., 7.],\n",
            "        [6., 4.],\n",
            "        [6., 5.]])\n",
            "--\n",
            "c=\n",
            "tensor([[2.0000, 7.0000],\n",
            "        [4.0000, 5.5000],\n",
            "        [4.6667, 5.3333]])\n"
          ]
        }
      ]
    },
    {
      "cell_type": "code",
      "source": [
        "# consider the following toy example:\n",
        "\n",
        "torch.manual_seed(1337)\n",
        "B,T,C = 4,8,2 # batch, time, channels\n",
        "x = torch.randn(B,T,C)\n",
        "x.shape"
      ],
      "metadata": {
        "colab": {
          "base_uri": "https://localhost:8080/"
        },
        "id": "8WTKyT7xAJCz",
        "outputId": "6a717e32-6224-4b44-ffea-246c786ccd71"
      },
      "execution_count": null,
      "outputs": [
        {
          "output_type": "execute_result",
          "data": {
            "text/plain": [
              "torch.Size([4, 8, 2])"
            ]
          },
          "metadata": {},
          "execution_count": 24
        }
      ]
    },
    {
      "cell_type": "code",
      "source": [
        "# We want x[b,t] = mean_{i<=t} x[b,i]\n",
        "xbow = torch.zeros((B,T,C))\n",
        "for b in range(B):\n",
        "    for t in range(T):\n",
        "        xprev = x[b,:t+1] # (t,C)\n",
        "        xbow[b,t] = torch.mean(xprev, 0)\n"
      ],
      "metadata": {
        "id": "db6OY__2AKpH"
      },
      "execution_count": null,
      "outputs": []
    },
    {
      "cell_type": "code",
      "source": [
        "# version 2: using matrix multiply for a weighted aggregation\n",
        "wei = torch.tril(torch.ones(T, T))\n",
        "wei = wei / wei.sum(1, keepdim=True)\n",
        "xbow2 = wei @ x # (B, T, T) @ (B, T, C) ----> (B, T, C)\n",
        "torch.allclose(xbow, xbow2)"
      ],
      "metadata": {
        "colab": {
          "base_uri": "https://localhost:8080/"
        },
        "id": "bNcDTKgMAMeP",
        "outputId": "2f045a53-fc2a-49c0-de86-dff8403336c4"
      },
      "execution_count": null,
      "outputs": [
        {
          "output_type": "execute_result",
          "data": {
            "text/plain": [
              "False"
            ]
          },
          "metadata": {},
          "execution_count": 26
        }
      ]
    },
    {
      "cell_type": "code",
      "source": [
        "# version 3: use Softmax\n",
        "tril = torch.tril(torch.ones(T, T))\n",
        "wei = torch.zeros((T,T))\n",
        "wei = wei.masked_fill(tril == 0, float('-inf'))\n",
        "wei = F.softmax(wei, dim=-1)\n",
        "xbow3 = wei @ x\n",
        "torch.allclose(xbow, xbow3)"
      ],
      "metadata": {
        "colab": {
          "base_uri": "https://localhost:8080/"
        },
        "id": "0lCjeFsOANtX",
        "outputId": "5dc93d71-2272-4c5d-e0b7-1a7128b91712"
      },
      "execution_count": null,
      "outputs": [
        {
          "output_type": "execute_result",
          "data": {
            "text/plain": [
              "False"
            ]
          },
          "metadata": {},
          "execution_count": 27
        }
      ]
    },
    {
      "cell_type": "code",
      "source": [
        "# version 4: self-attention!\n",
        "torch.manual_seed(1337)\n",
        "B,T,C = 4,8,32 # batch, time, channels\n",
        "x = torch.randn(B,T,C)\n",
        "\n",
        "# let's see a single Head perform self-attention\n",
        "head_size = 16\n",
        "key = nn.Linear(C, head_size, bias=False)\n",
        "query = nn.Linear(C, head_size, bias=False)\n",
        "value = nn.Linear(C, head_size, bias=False)\n",
        "k = key(x)   # (B, T, 16)\n",
        "q = query(x) # (B, T, 16)\n",
        "wei =  q @ k.transpose(-2, -1) # (B, T, 16) @ (B, 16, T) ---> (B, T, T)\n",
        "\n",
        "tril = torch.tril(torch.ones(T, T))\n",
        "#wei = torch.zeros((T,T))\n",
        "wei = wei.masked_fill(tril == 0, float('-inf'))\n",
        "wei = F.softmax(wei, dim=-1)\n",
        "\n",
        "v = value(x)\n",
        "out = wei @ v\n",
        "#out = wei @ x\n",
        "\n",
        "out.shape"
      ],
      "metadata": {
        "colab": {
          "base_uri": "https://localhost:8080/"
        },
        "id": "2WCoSWmRAPpw",
        "outputId": "575c106d-d67c-474b-bec8-d518469f366f"
      },
      "execution_count": null,
      "outputs": [
        {
          "output_type": "execute_result",
          "data": {
            "text/plain": [
              "torch.Size([4, 8, 16])"
            ]
          },
          "metadata": {},
          "execution_count": 28
        }
      ]
    },
    {
      "cell_type": "code",
      "source": [
        "wei[0]"
      ],
      "metadata": {
        "colab": {
          "base_uri": "https://localhost:8080/"
        },
        "id": "MFEHowweASaW",
        "outputId": "57dd8cb5-b9fe-42d3-b10e-16a36473b057"
      },
      "execution_count": null,
      "outputs": [
        {
          "output_type": "execute_result",
          "data": {
            "text/plain": [
              "tensor([[1.0000, 0.0000, 0.0000, 0.0000, 0.0000, 0.0000, 0.0000, 0.0000],\n",
              "        [0.1574, 0.8426, 0.0000, 0.0000, 0.0000, 0.0000, 0.0000, 0.0000],\n",
              "        [0.2088, 0.1646, 0.6266, 0.0000, 0.0000, 0.0000, 0.0000, 0.0000],\n",
              "        [0.5792, 0.1187, 0.1889, 0.1131, 0.0000, 0.0000, 0.0000, 0.0000],\n",
              "        [0.0294, 0.1052, 0.0469, 0.0276, 0.7909, 0.0000, 0.0000, 0.0000],\n",
              "        [0.0176, 0.2689, 0.0215, 0.0089, 0.6812, 0.0019, 0.0000, 0.0000],\n",
              "        [0.1691, 0.4066, 0.0438, 0.0416, 0.1048, 0.2012, 0.0329, 0.0000],\n",
              "        [0.0210, 0.0843, 0.0555, 0.2297, 0.0573, 0.0709, 0.2423, 0.2391]],\n",
              "       grad_fn=<SelectBackward0>)"
            ]
          },
          "metadata": {},
          "execution_count": 29
        }
      ]
    },
    {
      "cell_type": "code",
      "source": [
        "k = torch.randn(B,T,head_size)\n",
        "q = torch.randn(B,T,head_size)\n",
        "wei = q @ k.transpose(-2, -1) * head_size**-0.5"
      ],
      "metadata": {
        "id": "WXpKcLqvAU8H"
      },
      "execution_count": null,
      "outputs": []
    },
    {
      "cell_type": "code",
      "source": [
        "k.var()"
      ],
      "metadata": {
        "colab": {
          "base_uri": "https://localhost:8080/"
        },
        "id": "03w5e8rLAWcG",
        "outputId": "6bb4fe06-c841-41b9-dbac-a5df32b1b70f"
      },
      "execution_count": null,
      "outputs": [
        {
          "output_type": "execute_result",
          "data": {
            "text/plain": [
              "tensor(1.0449)"
            ]
          },
          "metadata": {},
          "execution_count": 31
        }
      ]
    },
    {
      "cell_type": "code",
      "source": [
        "q.var()"
      ],
      "metadata": {
        "colab": {
          "base_uri": "https://localhost:8080/"
        },
        "id": "5-_iVJxOAWZ-",
        "outputId": "b532f9ff-3f25-4b7f-ff23-61267c59e9c1"
      },
      "execution_count": null,
      "outputs": [
        {
          "output_type": "execute_result",
          "data": {
            "text/plain": [
              "tensor(1.0700)"
            ]
          },
          "metadata": {},
          "execution_count": 32
        }
      ]
    },
    {
      "cell_type": "code",
      "source": [
        "wei.var()"
      ],
      "metadata": {
        "colab": {
          "base_uri": "https://localhost:8080/"
        },
        "id": "Ar4hqVVrAWXW",
        "outputId": "c2dfcc93-3366-4a81-a165-463ed2a96207"
      },
      "execution_count": null,
      "outputs": [
        {
          "output_type": "execute_result",
          "data": {
            "text/plain": [
              "tensor(1.0918)"
            ]
          },
          "metadata": {},
          "execution_count": 33
        }
      ]
    },
    {
      "cell_type": "code",
      "source": [
        "torch.softmax(torch.tensor([0.1, -0.2, 0.3, -0.2, 0.5]), dim=-1)"
      ],
      "metadata": {
        "colab": {
          "base_uri": "https://localhost:8080/"
        },
        "id": "wADuHiaPAWU_",
        "outputId": "ed1ec685-b1e1-4b88-de2a-9764c6156a25"
      },
      "execution_count": null,
      "outputs": [
        {
          "output_type": "execute_result",
          "data": {
            "text/plain": [
              "tensor([0.1925, 0.1426, 0.2351, 0.1426, 0.2872])"
            ]
          },
          "metadata": {},
          "execution_count": 34
        }
      ]
    },
    {
      "cell_type": "code",
      "source": [
        "torch.softmax(torch.tensor([0.1, -0.2, 0.3, -0.2, 0.5])*8, dim=-1) # gets too peaky, converges to one-hot"
      ],
      "metadata": {
        "colab": {
          "base_uri": "https://localhost:8080/"
        },
        "id": "lxfYV15yAbIP",
        "outputId": "237d24eb-8832-49ff-f984-1760f43e33be"
      },
      "execution_count": null,
      "outputs": [
        {
          "output_type": "execute_result",
          "data": {
            "text/plain": [
              "tensor([0.0326, 0.0030, 0.1615, 0.0030, 0.8000])"
            ]
          },
          "metadata": {},
          "execution_count": 35
        }
      ]
    },
    {
      "cell_type": "code",
      "source": [
        "class LayerNorm1d: # (used to be BatchNorm1d)\n",
        "\n",
        "  def __init__(self, dim, eps=1e-5, momentum=0.1):\n",
        "    self.eps = eps\n",
        "    self.gamma = torch.ones(dim)\n",
        "    self.beta = torch.zeros(dim)\n",
        "\n",
        "  def __call__(self, x):\n",
        "    # calculate the forward pass\n",
        "    xmean = x.mean(1, keepdim=True) # batch mean\n",
        "    xvar = x.var(1, keepdim=True) # batch variance\n",
        "    xhat = (x - xmean) / torch.sqrt(xvar + self.eps) # normalize to unit variance\n",
        "    self.out = self.gamma * xhat + self.beta\n",
        "    return self.out\n",
        "\n",
        "  def parameters(self):\n",
        "    return [self.gamma, self.beta]\n",
        "\n",
        "torch.manual_seed(1337)\n",
        "module = LayerNorm1d(100)\n",
        "x = torch.randn(32, 100) # batch size 32 of 100-dimensional vectors\n",
        "x = module(x)\n",
        "x.shape"
      ],
      "metadata": {
        "colab": {
          "base_uri": "https://localhost:8080/"
        },
        "id": "VN249jPPAbF2",
        "outputId": "def34a56-1c5d-4090-a231-e95a285b368d"
      },
      "execution_count": null,
      "outputs": [
        {
          "output_type": "execute_result",
          "data": {
            "text/plain": [
              "torch.Size([32, 100])"
            ]
          },
          "metadata": {},
          "execution_count": 36
        }
      ]
    },
    {
      "cell_type": "code",
      "source": [
        "x[:,0].mean(), x[:,0].std() # mean,std of one feature across all batch inputs"
      ],
      "metadata": {
        "colab": {
          "base_uri": "https://localhost:8080/"
        },
        "id": "SCWcSNErAbA-",
        "outputId": "e6528187-0a12-4ef3-f1b0-8b7e3846c1fb"
      },
      "execution_count": null,
      "outputs": [
        {
          "output_type": "execute_result",
          "data": {
            "text/plain": [
              "(tensor(0.1469), tensor(0.8803))"
            ]
          },
          "metadata": {},
          "execution_count": 37
        }
      ]
    },
    {
      "cell_type": "code",
      "source": [
        "x[0,:].mean(), x[0,:].std() # mean,std of a single input from the batch, of its features"
      ],
      "metadata": {
        "colab": {
          "base_uri": "https://localhost:8080/"
        },
        "id": "ObEmRQprAa9n",
        "outputId": "5ceedf02-cbe7-4d5d-9714-4a60695b928a"
      },
      "execution_count": null,
      "outputs": [
        {
          "output_type": "execute_result",
          "data": {
            "text/plain": [
              "(tensor(-9.5367e-09), tensor(1.0000))"
            ]
          },
          "metadata": {},
          "execution_count": 38
        }
      ]
    },
    {
      "cell_type": "code",
      "source": [
        "import torch\n",
        "import torch.nn as nn\n",
        "from torch.nn import functional as F\n",
        "\n",
        "# hyperparameters\n",
        "batch_size = 16 # how many independent sequences will we process in parallel?\n",
        "block_size = 32 # what is the maximum context length for predictions?\n",
        "max_iters = 5000\n",
        "eval_interval = 100\n",
        "learning_rate = 1e-3\n",
        "device = 'cuda' if torch.cuda.is_available() else 'cpu'\n",
        "eval_iters = 200\n",
        "n_embd = 64\n",
        "n_head = 4\n",
        "n_layer = 4\n",
        "dropout = 0.0\n",
        "# ------------\n",
        "\n",
        "torch.manual_seed(1337)\n",
        "\n",
        "# wget https://raw.githubusercontent.com/karpathy/char-rnn/master/data/tinyshakespeare/input.txt\n",
        "with open('/content/combined_output.txt', 'r', encoding='utf-8') as f:\n",
        "    text = f.read()\n",
        "\n",
        "# here are all the unique characters that occur in this text\n",
        "chars = sorted(list(set(text)))\n",
        "vocab_size = len(chars)\n",
        "# create a mapping from characters to integers\n",
        "stoi = { ch:i for i,ch in enumerate(chars) }\n",
        "itos = { i:ch for i,ch in enumerate(chars) }\n",
        "encode = lambda s: [stoi[c] for c in s] # encoder: take a string, output a list of integers\n",
        "decode = lambda l: ''.join([itos[i] for i in l]) # decoder: take a list of integers, output a string\n",
        "\n",
        "# Train and test splits\n",
        "data = torch.tensor(encode(text), dtype=torch.long)\n",
        "n = int(0.9*len(data)) # first 90% will be train, rest val\n",
        "train_data = data[:n]\n",
        "val_data = data[n:]\n",
        "\n",
        "# data loading\n",
        "def get_batch(split):\n",
        "    # generate a small batch of data of inputs x and targets y\n",
        "    data = train_data if split == 'train' else val_data\n",
        "    ix = torch.randint(len(data) - block_size, (batch_size,))\n",
        "    x = torch.stack([data[i:i+block_size] for i in ix])\n",
        "    y = torch.stack([data[i+1:i+block_size+1] for i in ix])\n",
        "    x, y = x.to(device), y.to(device)\n",
        "    return x, y\n",
        "\n",
        "@torch.no_grad()\n",
        "def estimate_loss():\n",
        "    out = {}\n",
        "    model.eval()\n",
        "    for split in ['train', 'val']:\n",
        "        losses = torch.zeros(eval_iters)\n",
        "        for k in range(eval_iters):\n",
        "            X, Y = get_batch(split)\n",
        "            logits, loss = model(X, Y)\n",
        "            losses[k] = loss.item()\n",
        "        out[split] = losses.mean()\n",
        "    model.train()\n",
        "    return out\n",
        "\n",
        "class Head(nn.Module):\n",
        "    \"\"\" one head of self-attention \"\"\"\n",
        "\n",
        "    def __init__(self, head_size):\n",
        "        super().__init__()\n",
        "        self.key = nn.Linear(n_embd, head_size, bias=False)\n",
        "        self.query = nn.Linear(n_embd, head_size, bias=False)\n",
        "        self.value = nn.Linear(n_embd, head_size, bias=False)\n",
        "        self.register_buffer('tril', torch.tril(torch.ones(block_size, block_size)))\n",
        "\n",
        "        self.dropout = nn.Dropout(dropout)\n",
        "\n",
        "    def forward(self, x):\n",
        "        B,T,C = x.shape\n",
        "        k = self.key(x)   # (B,T,C)\n",
        "        q = self.query(x) # (B,T,C)\n",
        "        # compute attention scores (\"affinities\")\n",
        "        wei = q @ k.transpose(-2,-1) * C**-0.5 # (B, T, C) @ (B, C, T) -> (B, T, T)\n",
        "        wei = wei.masked_fill(self.tril[:T, :T] == 0, float('-inf')) # (B, T, T)\n",
        "        wei = F.softmax(wei, dim=-1) # (B, T, T)\n",
        "        wei = self.dropout(wei)\n",
        "        # perform the weighted aggregation of the values\n",
        "        v = self.value(x) # (B,T,C)\n",
        "        out = wei @ v # (B, T, T) @ (B, T, C) -> (B, T, C)\n",
        "        return out\n",
        "\n",
        "class MultiHeadAttention(nn.Module):\n",
        "    \"\"\" multiple heads of self-attention in parallel \"\"\"\n",
        "\n",
        "    def __init__(self, num_heads, head_size):\n",
        "        super().__init__()\n",
        "        self.heads = nn.ModuleList([Head(head_size) for _ in range(num_heads)])\n",
        "        self.proj = nn.Linear(n_embd, n_embd)\n",
        "        self.dropout = nn.Dropout(dropout)\n",
        "\n",
        "    def forward(self, x):\n",
        "        out = torch.cat([h(x) for h in self.heads], dim=-1)\n",
        "        out = self.dropout(self.proj(out))\n",
        "        return out\n",
        "\n",
        "class FeedFoward(nn.Module):\n",
        "    \"\"\" a simple linear layer followed by a non-linearity \"\"\"\n",
        "\n",
        "    def __init__(self, n_embd):\n",
        "        super().__init__()\n",
        "        self.net = nn.Sequential(\n",
        "            nn.Linear(n_embd, 4 * n_embd),\n",
        "            nn.ReLU(),\n",
        "            nn.Linear(4 * n_embd, n_embd),\n",
        "            nn.Dropout(dropout),\n",
        "        )\n",
        "\n",
        "    def forward(self, x):\n",
        "        return self.net(x)\n",
        "\n",
        "class Block(nn.Module):\n",
        "    \"\"\" Transformer block: communication followed by computation \"\"\"\n",
        "\n",
        "    def __init__(self, n_embd, n_head):\n",
        "        # n_embd: embedding dimension, n_head: the number of heads we'd like\n",
        "        super().__init__()\n",
        "        head_size = n_embd // n_head\n",
        "        self.sa = MultiHeadAttention(n_head, head_size)\n",
        "        self.ffwd = FeedFoward(n_embd)\n",
        "        self.ln1 = nn.LayerNorm(n_embd)\n",
        "        self.ln2 = nn.LayerNorm(n_embd)\n",
        "\n",
        "    def forward(self, x):\n",
        "        x = x + self.sa(self.ln1(x))\n",
        "        x = x + self.ffwd(self.ln2(x))\n",
        "        return x\n",
        "\n",
        "# super simple bigram model\n",
        "class BigramLanguageModel(nn.Module):\n",
        "\n",
        "    def __init__(self):\n",
        "        super().__init__()\n",
        "        # each token directly reads off the logits for the next token from a lookup table\n",
        "        self.token_embedding_table = nn.Embedding(vocab_size, n_embd)\n",
        "        self.position_embedding_table = nn.Embedding(block_size, n_embd)\n",
        "        self.blocks = nn.Sequential(*[Block(n_embd, n_head=n_head) for _ in range(n_layer)])\n",
        "        self.ln_f = nn.LayerNorm(n_embd) # final layer norm\n",
        "        self.lm_head = nn.Linear(n_embd, vocab_size)\n",
        "\n",
        "    def forward(self, idx, targets=None):\n",
        "        B, T = idx.shape\n",
        "\n",
        "        # idx and targets are both (B,T) tensor of integers\n",
        "        tok_emb = self.token_embedding_table(idx) # (B,T,C)\n",
        "        pos_emb = self.position_embedding_table(torch.arange(T, device=device)) # (T,C)\n",
        "        x = tok_emb + pos_emb # (B,T,C)\n",
        "        x = self.blocks(x) # (B,T,C)\n",
        "        x = self.ln_f(x) # (B,T,C)\n",
        "        logits = self.lm_head(x) # (B,T,vocab_size)\n",
        "\n",
        "        if targets is None:\n",
        "            loss = None\n",
        "        else:\n",
        "            B, T, C = logits.shape\n",
        "            logits = logits.view(B*T, C)\n",
        "            targets = targets.view(B*T)\n",
        "            loss = F.cross_entropy(logits, targets)\n",
        "\n",
        "        return logits, loss\n",
        "\n",
        "    def generate(self, idx, max_new_tokens):\n",
        "        # idx is (B, T) array of indices in the current context\n",
        "        for _ in range(max_new_tokens):\n",
        "            # crop idx to the last block_size tokens\n",
        "            idx_cond = idx[:, -block_size:]\n",
        "            # get the predictions\n",
        "            logits, loss = self(idx_cond)\n",
        "            # focus only on the last time step\n",
        "            logits = logits[:, -1, :] # becomes (B, C)\n",
        "            # apply softmax to get probabilities\n",
        "            probs = F.softmax(logits, dim=-1) # (B, C)\n",
        "            # sample from the distribution\n",
        "            idx_next = torch.multinomial(probs, num_samples=1) # (B, 1)\n",
        "            # append sampled index to the running sequence\n",
        "            idx = torch.cat((idx, idx_next), dim=1) # (B, T+1)\n",
        "        return idx\n",
        "\n",
        "model = BigramLanguageModel()\n",
        "m = model.to(device)\n",
        "# print the number of parameters in the model\n",
        "print(sum(p.numel() for p in m.parameters())/1e6, 'M parameters')\n",
        "\n",
        "# create a PyTorch optimizer\n",
        "optimizer = torch.optim.AdamW(model.parameters(), lr=learning_rate)\n",
        "\n",
        "for iter in range(max_iters):\n",
        "\n",
        "    # every once in a while evaluate the loss on train and val sets\n",
        "    if iter % eval_interval == 0 or iter == max_iters - 1:\n",
        "        losses = estimate_loss()\n",
        "        print(f\"step {iter}: train loss {losses['train']:.4f}, val loss {losses['val']:.4f}\")\n",
        "\n",
        "    # sample a batch of data\n",
        "    xb, yb = get_batch('train')\n",
        "\n",
        "    # evaluate the loss\n",
        "    logits, loss = model(xb, yb)\n",
        "    optimizer.zero_grad(set_to_none=True)\n",
        "    loss.backward()\n",
        "    optimizer.step()\n",
        "\n",
        "# generate from the model\n",
        "context = torch.zeros((1, 1), dtype=torch.long, device=device)\n",
        "print(decode(m.generate(context, max_new_tokens=2000)[0].tolist()))"
      ],
      "metadata": {
        "colab": {
          "base_uri": "https://localhost:8080/"
        },
        "id": "HnZ450eTAqGG",
        "outputId": "94451337-5a20-429f-bef1-bf495d153d96"
      },
      "execution_count": null,
      "outputs": [
        {
          "output_type": "stream",
          "name": "stdout",
          "text": [
            "0.211535 M parameters\n",
            "step 0: train loss 4.5733, val loss 4.5715\n",
            "step 100: train loss 2.6272, val loss 2.6380\n",
            "step 200: train loss 2.5105, val loss 2.5093\n",
            "step 300: train loss 2.4159, val loss 2.4259\n",
            "step 400: train loss 2.3317, val loss 2.3368\n",
            "step 500: train loss 2.2597, val loss 2.2731\n",
            "step 600: train loss 2.1979, val loss 2.2036\n",
            "step 700: train loss 2.1482, val loss 2.1578\n",
            "step 800: train loss 2.1035, val loss 2.1053\n",
            "step 900: train loss 2.0476, val loss 2.0543\n",
            "step 1000: train loss 2.0196, val loss 2.0379\n",
            "step 1100: train loss 1.9816, val loss 1.9799\n",
            "step 1200: train loss 1.9451, val loss 1.9466\n",
            "step 1300: train loss 1.9169, val loss 1.9260\n",
            "step 1400: train loss 1.9030, val loss 1.9003\n",
            "step 1500: train loss 1.8712, val loss 1.8673\n",
            "step 1600: train loss 1.8228, val loss 1.8520\n",
            "step 1700: train loss 1.8188, val loss 1.8396\n",
            "step 1800: train loss 1.7880, val loss 1.8086\n",
            "step 1900: train loss 1.7758, val loss 1.7776\n",
            "step 2000: train loss 1.7726, val loss 1.7778\n",
            "step 2100: train loss 1.7430, val loss 1.7556\n",
            "step 2200: train loss 1.7347, val loss 1.7476\n",
            "step 2300: train loss 1.7371, val loss 1.7276\n",
            "step 2400: train loss 1.7141, val loss 1.7178\n",
            "step 2500: train loss 1.6955, val loss 1.7104\n",
            "step 2600: train loss 1.7016, val loss 1.7044\n",
            "step 2700: train loss 1.6807, val loss 1.6797\n",
            "step 2800: train loss 1.6638, val loss 1.6705\n",
            "step 2900: train loss 1.6581, val loss 1.6676\n",
            "step 3000: train loss 1.6410, val loss 1.6410\n",
            "step 3100: train loss 1.6401, val loss 1.6457\n",
            "step 3200: train loss 1.6265, val loss 1.6462\n",
            "step 3300: train loss 1.6128, val loss 1.6223\n",
            "step 3400: train loss 1.6108, val loss 1.6314\n",
            "step 3500: train loss 1.6071, val loss 1.6048\n",
            "step 3600: train loss 1.6027, val loss 1.5968\n",
            "step 3700: train loss 1.5897, val loss 1.6064\n",
            "step 3800: train loss 1.5810, val loss 1.6040\n",
            "step 3900: train loss 1.5828, val loss 1.5944\n",
            "step 4000: train loss 1.5835, val loss 1.5974\n",
            "step 4100: train loss 1.5722, val loss 1.5829\n",
            "step 4200: train loss 1.5738, val loss 1.5783\n",
            "step 4300: train loss 1.5638, val loss 1.5758\n",
            "step 4400: train loss 1.5712, val loss 1.5732\n",
            "step 4500: train loss 1.5475, val loss 1.5579\n",
            "step 4600: train loss 1.5563, val loss 1.5657\n",
            "step 4700: train loss 1.5502, val loss 1.5531\n",
            "step 4800: train loss 1.5452, val loss 1.5560\n",
            "step 4900: train loss 1.5385, val loss 1.5510\n",
            "step 4999: train loss 1.5327, val loss 1.5413\n",
            "\n",
            "of long the\n",
            "Sandas,o that in thince, and lanquirence), he the fight. Karna, thicks thats with their woinks shy strength lautures. And favures contancimal foremost of\n",
            "geven an the every ahough was had and atso\n",
            "Yama, the aso not, feer-came his brothes, exceiful it came stasons, that is blue. I wills,\n",
            "conned with ducklessed and\n",
            "Botherns not outher beautals, the\n",
            "said aloned by the livers wing, and bown and in unto destrival, dreplend! Aftor mountains while with not mere, O king,\n",
            "andwaters,\n",
            "with having rotunes, O skinsticuly of wourshing thee as pourses compisterior of Duryodhana, he giverse, so devothers, enjoyt in blazing at horse impered, letworly\n",
            "armouty my becam of the creatures, as. He not upon the fore. Of those heards in that time harted ancumplited worth of his so\n",
            "like fe a possesson or that Critaras, to buspeed and with befulgens, who vanquis the kings of all Bhishma also she keen a sabudfuls, it was and five time, the monarchs encume unto the Yidhis with sang the might. This waterever an way be\n",
            "amongst not mer only, Brahmanas, speed with vaking of Pandara out smeeds, sin for equal alorerwess doth alumbed with one, those\n",
            "uppon and the consu: of weall thrids. Mearhole my Exiolly having the foremost thy clit what is\n",
            "diver said, 'The merefore in the one fierce of the Vedas and Rakas, slenjed howed, camestaration, Cheread be swincuth all faders. Without\n",
            "his shoulds,\n",
            "not\n",
            "is alcapoide, O king, a he said, Duryodhana and silful; Indra, That leth those peak that that dotion with\n",
            "the equal are deities beauting my serrificity as a) me, possed of sititatuit. Attingtion endued and men merit reath their, O\n",
            "Chishma, tolu! Lettle though great souther, with possed\n",
            "and these unalony and (Sani tes all with moy howeth give and being these med. And of that is pleasants we myight destial at that persomandly weasods of all barming all the wise. Thou tigers of the weapon time king life, O hath excell; brothen the of man; righ befulled this set to saurior of Bearadya and Whyile a monig\n"
          ]
        }
      ]
    }
  ]
}